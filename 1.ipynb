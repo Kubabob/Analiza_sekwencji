{
 "cells": [
  {
   "cell_type": "code",
   "execution_count": 1,
   "metadata": {},
   "outputs": [],
   "source": [
    "import pandas as pd"
   ]
  },
  {
   "cell_type": "code",
   "execution_count": 18,
   "metadata": {},
   "outputs": [
    {
     "name": "stdout",
     "output_type": "stream",
     "text": [
      "['P10321', 'P04439', 'P01899', 'P17693', 'P13747']\n"
     ]
    }
   ],
   "source": [
    "with open('uniprot_ids', 'r') as file:\n",
    "    uniprot_ids = file.read()\n",
    "    uniprot_ids = uniprot_ids.split('\\n')\n",
    "    print(uniprot_ids)"
   ]
  },
  {
   "cell_type": "code",
   "execution_count": 25,
   "metadata": {},
   "outputs": [
    {
     "name": "stdout",
     "output_type": "stream",
     "text": [
      "hsa:3107\n",
      "hsa:3105\n",
      "mmu:14964\n",
      "hsa:3135\n",
      "hsa:3133\n"
     ]
    }
   ],
   "source": [
    "import requests\n",
    "\n",
    "def getDataFromKegg(operation, argument):\n",
    "    url = f\"https://rest.kegg.jp/{operation}/{argument}\"\n",
    "\n",
    "    resp = requests.get(\n",
    "        url\n",
    "    )\n",
    "\n",
    "    if resp.ok:\n",
    "        return resp.text\n",
    "\n",
    "for uniprot_id in uniprot_ids:\n",
    "    print(getDataFromKegg('conv', f'genes/uniprot:{uniprot_id}').split()[1])"
   ]
  },
  {
   "cell_type": "code",
   "execution_count": 32,
   "metadata": {},
   "outputs": [],
   "source": [
    "def getAaSeq(uniprot_id):\n",
    "    kegg_id_data = getDataFromKegg(\n",
    "        \"conv\", f\"genes/uniprot:{uniprot_id}\"\n",
    "    )\n",
    "\n",
    "    kegg_id = kegg_id_data.strip().split(\"\\t\")[1]\n",
    "\n",
    "    gene = getDataFromKegg(\n",
    "        \"get\", f\"{kegg_id}/aaseq\"\n",
    "    )\n",
    "\n",
    "    #gene = \"\".join(gene.split(\"\\n\")[1:])\n",
    "\n",
    "    return gene\n",
    "\n",
    "with open('fastaFromKegg', 'w') as file:\n",
    "    for uniprot_id in uniprot_ids:\n",
    "        file.write(getAaSeq(uniprot_id))\n",
    "\n"
   ]
  },
  {
   "cell_type": "code",
   "execution_count": 36,
   "metadata": {},
   "outputs": [
    {
     "name": "stdout",
     "output_type": "stream",
     "text": [
      "JOB ID IS: clustalo-R20240222-180140-0823-19763603-p1m\n",
      ">3107 K06751 MHC class I antigen | (RefSeq) HLA-C, D6S204, HLA-JY3, HLAC, HLC-C, MHC, PSORS1; major histocompatibility complex, class\n",
      "MRVMAPRALLLLLSGGLALTETWACSHSMRYFDTAVSRPGRGEPRFISVGYVDDTQFVRF\n",
      "DSDAASPRGEPRAPWVEQEGPEYWDRETQKYKRQAQADRVSLRNLRGYYNQSEDGSHTLQ\n",
      "RMSGCDLGPDGRLLRGYDQSAYDGKDYIALNEDLRSWTAADTAAQITQRKLEAARAAEQL\n",
      "RAYLEGTCVEWLRRYLENGKETLQRAEPPKTHVTHHPLSDHEATLRCWALGFYPAEITLT\n",
      "WQRDGEDQTQDTELVETRPAGDGTFQKWAAVVVPSGQEQRYTCHMQHEGLQEPLTLSWEP\n",
      "SSQPTIPIMGIVAGLAVLVVLAVLGAVVTAMMCRRKSSGGKGGSCSQAACSNSAQGSDES\n",
      "LITCKA\n",
      ">3105 K06751 MHC class I antigen | (RefSeq) HLA-A, HLAA; major histocompatibility complex, class I, A (A)\n",
      "MAVMAPRTLLLLLSGALALTQTWAGSHSMRYFFTSVSRPGRGEPRFIAVGYVDDTQFVRF\n",
      "DSDAASQKMEPRAPWIEQEGPEYWDQETRNMKAHSQTDRANLGTLRGYYNQSEDGSHTIQ\n",
      "IMYGCDVGPDGRFLRGYRQDAYDGKDYIALNEDLRSWTAADMAAQITKRKWEAVHAAEQR\n",
      "RVYLEGRCVDGLRRYLENGKETLQRTDPPKTHMTHHPISDHEATLRCWALGFYPAEITLT\n",
      "WQRDGEDQTQDTELVETRPAGDGTFQKWAAVVVPSGEEQRYTCHVQHEGLPKPLTLRWEL\n",
      "SSQPTIPIVGIIAGLVLLGA-VITGAVVAAVMWRRKSSDRKGGSYTQAASSDSAQGSDVS\n",
      "LTACKV\n",
      ">14964 K06751 MHC class I antigen | (RefSeq) H2-D1, H-2D, H2-D, H2-K1; histocompatibility 2, D region locus 1 (A)\n",
      "MGAMAPRTLLLLLAAALAPTQTRAGPHSMRYFETAVSRPGLEEPRYISVGYVDNKEFVRF\n",
      "DSDAENPRYEPRAPWMEQEGPEYWERETQKAKGQEQWFRVSLRNLLGYYNQSAGGSHTLQ\n",
      "QMSGCDLGSDWRLLRGYLQFAYEGRDYIALNEDLKTWTAADMAAQITRRKWEQSGAAEHY\n",
      "KAYLEGECVEWLHRYLKNGNATLLRTDSPKAHVTHHPRSKGEVTLRCWALGFYPADITLT\n",
      "WQLNGEELTQDMELVETRPAGDGTFQKWASVVVPLGKEQNYTCRVYHEGLPEPLTLRWEP\n",
      "PPST-DSYMVIVAVLGVLGAMAIIGAVVAFVMKRRRNTGGKGGDYALAPGS---QSSEMS\n",
      "LRDCKA\n",
      ">3135 K06751 MHC class I antigen | (RefSeq) HLA-G, MHC-G; major histocompatibility complex, class I, G (A)\n",
      "MVVMAPRTLFLLLSGALTLTETWAGSHSMRYFSAAVSRPGRGEPRFIAMGYVDDTQFVRF\n",
      "DSDSACPRMEPRAPWVEQEGPEYWEEETRNTKAHAQTDRMNLQTLRGYYNQSEASSHTLQ\n",
      "WMIGCDLGSDGRLLRGYEQYAYDGKDYLALNEDLRSWTAADTAAQISKRKCEAANVAEQR\n",
      "RAYLEGTCVEWLHRYLENGKEMLQRADPPKTHVTHHPVFDYEATLRCWALGFYPAEIILT\n",
      "WQRDGEDQTQDVELVETRPAGDGTFQKWAAVVVPSGEEQRYTCHVQHEGLPEPLMLRWKQ\n",
      "SSLPTIPIMGIVAGLVVLAA-VVTGAAVAAVLWRKKSSD---------------------\n",
      "------\n",
      ">3133 K06751 MHC class I antigen | (RefSeq) HLA-E, HLA-6.2, QA1; major histocompatibility complex, class I, E (A)\n",
      "---MVDGTLLLLLSEALALTQTWAGSHSLKYFHTSVSRPGRGEPRFISVGYVDDTQFVRF\n",
      "DNDAASPRMVPRAPWMEQEGSEYWDRETRSARDTAQIFRVNLRTLRGYYNQSEAGSHTLQ\n",
      "WMHGCELGPDGRFLRGYEQFAYDGKDYLTLNEDLRSWTAVDTAAQISEQKSNDASEAEHQ\n",
      "RAYLEDTCVEWLHKYLEKGKETLLHLEPPKTHVTHHPISDHEATLRCWALGFYPAEITLT\n",
      "WQQDGEGHTQDTELVETRPAGDGTFQKWAAVVVPSGEEQRYTCHVQHEGLPEPVTLRWKP\n",
      "ASQPTIPIVGIIAGLVLLGS-VVSGAVVAAVIWRKKSSGGKGGSYSKAEWSDSAQGSESH\n",
      "SL----\n",
      "\n",
      "41\n"
     ]
    }
   ],
   "source": [
    "import time\n",
    "\n",
    "def runClustal(sequecnes_in_fasta):\n",
    "    resp = requests.post(\n",
    "        'https://www.ebi.ac.uk/Tools/services/rest/clustalo/run',\n",
    "        data={\n",
    "            \"email\": \"marcel.thiel@ug.edu.pl\",\n",
    "            \"sequence\": sequecnes_in_fasta,\n",
    "            \"outfmt\": \"fa\"\n",
    "        }\n",
    "    )\n",
    "    jobid = resp.text\n",
    "\n",
    "    return jobid\n",
    "\n",
    "\n",
    "def getStatus(jobId):\n",
    "    url = f\"https://www.ebi.ac.uk/Tools/services/rest/clustalo/status/{jobId}\"\n",
    "    \n",
    "    resp = requests.get(\n",
    "        url\n",
    "    )\n",
    "\n",
    "    return resp.text\n",
    "\n",
    "\n",
    "def getResults(jobId):\n",
    "    url = f\"https://www.ebi.ac.uk/Tools/services/rest/clustalo/result/{jobId}/fa\"\n",
    "\n",
    "    resp = requests.get(\n",
    "        url\n",
    "    )\n",
    "\n",
    "    return resp.text\n",
    "\n",
    "with open('fastaFromKegg', 'r') as file:\n",
    "    sequencesFromFasta = file.read()\n",
    "\n",
    "jobid = runClustal(sequencesFromFasta)\n",
    "\n",
    "print(f\"JOB ID IS: {jobid}\")\n",
    "\n",
    "max_attempt = 20\n",
    "\n",
    "for attept in range(max_attempt):\n",
    "    status = getStatus(jobid)\n",
    "\n",
    "    if status == \"FINISHED\":\n",
    "        results = getResults(jobid)\n",
    "        print(results)\n",
    "\n",
    "        break\n",
    "\n",
    "    time.sleep(1)\n",
    "\n",
    "def countGaps(result: str):\n",
    "    resultsInLines = result.split('\\n')\n",
    "    gapsCount = 0\n",
    "    for cos in resultsInLines:\n",
    "        if cos.startswith('>'):\n",
    "            pass\n",
    "        else:\n",
    "            gapsCount += cos.count('-')\n",
    "    return gapsCount\n",
    "\n",
    "print(countGaps(results))    \n"
   ]
  }
 ],
 "metadata": {
  "kernelspec": {
   "display_name": "Python 3",
   "language": "python",
   "name": "python3"
  },
  "language_info": {
   "codemirror_mode": {
    "name": "ipython",
    "version": 3
   },
   "file_extension": ".py",
   "mimetype": "text/x-python",
   "name": "python",
   "nbconvert_exporter": "python",
   "pygments_lexer": "ipython3",
   "version": "3.10.12"
  }
 },
 "nbformat": 4,
 "nbformat_minor": 2
}
